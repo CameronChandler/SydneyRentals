{
 "cells": [
  {
   "cell_type": "markdown",
   "id": "89943091",
   "metadata": {},
   "source": [
    "# Drop duplicates, only look at properties with at least 2 bedrooms OR study and grab property URLs too"
   ]
  },
  {
   "cell_type": "code",
   "execution_count": 1,
   "id": "0cd9b657",
   "metadata": {},
   "outputs": [
    {
     "data": {
      "text/plain": [
       "1445"
      ]
     },
     "execution_count": 1,
     "metadata": {},
     "output_type": "execute_result"
    }
   ],
   "source": [
    "import pandas as pd\n",
    "import numpy as np\n",
    "import re\n",
    "from functools import partial\n",
    "import pickle\n",
    "\n",
    "from selenium import webdriver\n",
    "from selenium.webdriver.common.by import By\n",
    "from selenium.webdriver.common.keys import Keys\n",
    "from time import sleep\n",
    "from tqdm import tqdm\n",
    "\n",
    "import matplotlib.pyplot as plt\n",
    "%matplotlib inline\n",
    "import seaborn as sns\n",
    "\n",
    "SMALL, MED, LARGE, LW = 18, 24, 30, 3\n",
    "plt.rc('axes', titlesize=MED)    # fontsize of the axes title\n",
    "plt.rc('axes', labelsize=MED)    # fontsize of the x and y labels\n",
    "plt.rc('xtick', labelsize=SMALL) # fontsize of the tick labels\n",
    "plt.rc('ytick', labelsize=SMALL) # fontsize of the tick labels\n",
    "plt.rc('legend', fontsize=MED)   # legend fontsize\n",
    "plt.rc('font', size=LARGE)       # controls default text sizes\n",
    "\n",
    "# More than 40 minutes away at fastest\n",
    "too_far = [\n",
    "    'Lidcombe', 'Parramatta', 'Strathfield', 'Wentworth Point', 'Rhodes', 'Campsie', 'Bondi Beach', 'Homebush West',\n",
    "    'Lakemba', 'Dover Heights', 'Five Dock', 'Wareemba', 'Newington', 'Sydney Olympic Park', 'Mortlake', 'Punchbowl', \n",
    "    'Greenacre', 'Mount Lewis', 'Chullora', 'Dulwich Hill', 'Annandale', 'Hunters Hill', 'Lane Cove West',\n",
    "    'Huntleys Cove', 'Woolwich', 'Chatswood West', 'Bexley North', 'Wiley Park', 'Rosebery', 'Leichhardt', 'Alexandria', \n",
    "    'Ashbury', 'Gladesville', 'Brighton-Le-Sands', 'Liberty Grove', 'Roseville', 'Henley', 'Seaforth', 'Hurstville Grove', \n",
    "    'Kingsgrove', 'Bardwell Valley', 'Narwee', 'Roseville Chase', 'Vaucluse', 'Botany', 'Riverview', 'North Bondi', \n",
    "    'Earlwood', 'Croydon Park', 'Beverly Hills', 'Allawah', 'Bexley', 'Homebush West', 'Homebush', 'Burwood Heights', \n",
    "    'Berala', 'Belfield', 'Banksmeadow', 'Castle Cove', 'Canada Bay', 'Russell Lea', 'Cabarita', 'Putney', \n",
    "    'Tennyson Point', 'Eastlakes', 'Breakfast Point', 'Ryde', 'Haberfield', 'Enfield', 'Strathfield South', 'Concord', \n",
    "    'Abbotsford', 'Concord West', 'Chiswick', 'Rodd Point', 'Denistone East', 'Kyeemagh', 'Roselands'\n",
    "]\n",
    "\n",
    "data = pd.read_csv('data3.csv').drop_duplicates(subset='address')\n",
    "data = data[(data.price.notna()) & (data.address.str.contains(r'\\d')) & (data.bedrooms > 0)\n",
    "            & (data.property_type != 'Studio') & (data.bedrooms < 4) & (~data.suburb.isin(too_far))]\n",
    "len(data)"
   ]
  },
  {
   "cell_type": "code",
   "execution_count": 2,
   "id": "e65a4fa7",
   "metadata": {},
   "outputs": [],
   "source": [
    "def enter(text_box, text):\n",
    "    text_box.click()\n",
    "    text_box.clear()\n",
    "    text_box.send_keys(text)\n",
    "    text_box.send_keys(Keys.RETURN)\n",
    "\n",
    "def time_to_address(driver, address, url_func):\n",
    "    url = url_func(address)\n",
    "    \n",
    "    driver.get(url)\n",
    "    driver.implicitly_wait(2)\n",
    "\n",
    "    pt_icon = driver.find_elements(By.XPATH, '//*[@id=\"omnibox-directions\"]/div/div[2]/div/div/div/div[3]')[0]\n",
    "    pt_icon.click()\n",
    "\n",
    "    leave_now_btn = driver.find_elements(By.XPATH, '//*[@id=\":3\"]')[0]\n",
    "    leave_now_btn.click()\n",
    "\n",
    "    arrive_by_btn = driver.find_elements(By.XPATH, '//*[@id=\":2\"]')[0]\n",
    "    arrive_by_btn.click()\n",
    "\n",
    "    time_btn = driver.find_elements(By.XPATH, '//*[@id=\"QA0Szd\"]/div/div/div[1]/div[2]/div/div[1]/div/div/div[2]/div[1]/span[1]/input')[0]\n",
    "    enter(time_btn, '9')\n",
    "\n",
    "    try:\n",
    "        time = driver.find_elements(By.XPATH, '//*[@id=\"section-directions-trip-0\"]/div[1]/div[2]/div[1]/div')[0]\n",
    "    except IndexError:\n",
    "        time = driver.find_elements(By.XPATH, '//*[@id=\"section-directions-trip-0\"]/div[1]/div[3]/div[1]/div[1]')[0]\n",
    "        \n",
    "    return time.text\n",
    "\n",
    "def time_to_nearest(driver, name):\n",
    "    # Zoom in\n",
    "    maps = driver.find_elements(By.XPATH, '//*[@id=\"scene\"]/div[3]/canvas')[0]\n",
    "    maps.click()\n",
    "    for i in range(7):\n",
    "        maps.send_keys('+')\n",
    "        sleep(0.1)\n",
    "\n",
    "    dest_box = driver.find_elements(By.XPATH, '//*[@id=\"sb_ifc51\"]/input')[0]\n",
    "    enter(dest_box, name)\n",
    "        \n",
    "    walk_icon = driver.find_elements(By.XPATH, '//*[@id=\"omnibox-directions\"]/div/div[2]/div/div/div/div[4]')[0]\n",
    "    walk_icon.click()\n",
    "\n",
    "    time = -1\n",
    "    try:\n",
    "        time = driver.find_elements(By.XPATH, '//*[@id=\"section-directions-trip-0\"]/div[1]/div[2]/div[1]/div')[0]\n",
    "    except IndexError:\n",
    "        time = driver.find_elements(By.XPATH, '//*[@id=\"section-directions-trip-0\"]/div[1]/div[3]/div[1]/div[1]')[0]\n",
    "        \n",
    "    return time.text\n",
    "\n",
    "time_to_cole = partial(time_to_nearest, name='Coles')\n",
    "time_to_wlwt = partial(time_to_nearest, name='Woolworths')\n",
    "time_to_sttn = partial(time_to_nearest, name='train station')\n",
    "\n",
    "def centre_map(driver, address):\n",
    "    url = self_url(address)\n",
    "    \n",
    "    driver.get(url)\n",
    "    driver.implicitly_wait(2)\n",
    "\n",
    "N_TRIES = 1\n",
    "\n",
    "def try_time(driver, time_function):\n",
    "    time = np.nan\n",
    "    tries = 0\n",
    "    while tries < N_TRIES:\n",
    "        try:\n",
    "            time = time_function(driver)\n",
    "            break\n",
    "        except:\n",
    "            tries += 1\n",
    "            \n",
    "    return time\n",
    "\n",
    "def get_trailing_number(s):\n",
    "    m = re.search(r'\\d+$', s)\n",
    "    return m.group() if m else None\n",
    "\n",
    "contains_digit = lambda word: any(char.isdigit() for char in word)\n",
    "\n",
    "def new_address(address):\n",
    "    nums  = [get_trailing_number(word) for word in address.split() if contains_digit(word)][-1:]\n",
    "    words = [word for word in address.split() if not contains_digit(word)]\n",
    "\n",
    "    return ' '.join(nums + words)\n",
    "\n",
    "format_address = lambda address: '+'.join(address.replace('/', '%2F').split())\n",
    "\n",
    "def work_url(address):\n",
    "    formatted = format_address(address)\n",
    "    return f'https://www.google.co.in/maps/dir/{formatted}/Optiver+Asia+Pacific,+Hunter+Street,+Sydney+NSW'\n",
    "\n",
    "def self_url(address):\n",
    "    formatted = format_address(address)\n",
    "    return f'https://www.google.co.in/maps/dir/{formatted}/{formatted}'\n",
    "\n",
    "def scrape(address):\n",
    "    time_to_work = partial(time_to_address, address=address, url_func=work_url)\n",
    "    tt_work = try_time(driver, time_to_work)\n",
    "    \n",
    "    # If it failed, try modifying address slightly\n",
    "    if not isinstance(tt_work, str):    \n",
    "        address = new_address(address)\n",
    "        time_to_work = partial(time_to_address, address=address, url_func=work_url)\n",
    "        tt_work = try_time(driver, time_to_work)\n",
    "        \n",
    "    try:\n",
    "        # If too far to work don't bother\n",
    "        if 'hr' in tt_work or int(tt_work.split()[0]) > 40:\n",
    "            return tt_work, np.nan, np.nan, np.nan\n",
    "    except:\n",
    "        pass\n",
    "    \n",
    "    centre_map(driver, address)\n",
    "    tt_cole = try_time(driver, time_to_cole)\n",
    "    centre_map(driver, address)\n",
    "    tt_wlwt = try_time(driver, time_to_wlwt)\n",
    "    centre_map(driver, address)\n",
    "    tt_sttn = try_time(driver, time_to_sttn)\n",
    "    \n",
    "    return tt_work, tt_cole, tt_wlwt, tt_sttn"
   ]
  },
  {
   "cell_type": "code",
   "execution_count": 3,
   "id": "97ad91ff",
   "metadata": {},
   "outputs": [],
   "source": [
    "# Retrieve fastest time from each suburb to work\n",
    "if 0:\n",
    "    driver = webdriver.Chrome()\n",
    "\n",
    "    t = {}\n",
    "\n",
    "    for suburb in tqdm(data.suburb.unique()):\n",
    "        time_to_work = partial(time_to_address, address=suburb+', NSW', url_func=work_url)\n",
    "        tt_work = try_time(driver, time_to_work)\n",
    "        t[suburb] = tt_work"
   ]
  },
  {
   "cell_type": "code",
   "execution_count": 4,
   "id": "95046031",
   "metadata": {},
   "outputs": [
    {
     "name": "stderr",
     "output_type": "stream",
     "text": [
      "  0%|▏                                                                             | 4/1445 [02:16<16:22:54, 40.93s/it]"
     ]
    },
    {
     "name": "stdout",
     "output_type": "stream",
     "text": [
      "Work: 41/626-632 Mowbray Road, Lane Cove\n"
     ]
    },
    {
     "name": "stderr",
     "output_type": "stream",
     "text": [
      "  0%|▍                                                                             | 7/1445 [03:35<12:25:28, 31.10s/it]"
     ]
    },
    {
     "name": "stdout",
     "output_type": "stream",
     "text": [
      "Work: 13/302 Burns Bay Road, Lane Cove\n"
     ]
    },
    {
     "name": "stderr",
     "output_type": "stream",
     "text": [
      "\r",
      "  1%|▍                                                                             | 8/1445 [04:09<12:43:17, 31.87s/it]"
     ]
    },
    {
     "name": "stdout",
     "output_type": "stream",
     "text": [
      "Work: 23 Shelley Street, Sydney\n"
     ]
    },
    {
     "name": "stderr",
     "output_type": "stream",
     "text": [
      "\r",
      "  1%|▍                                                                             | 9/1445 [04:37<12:16:24, 30.77s/it]"
     ]
    },
    {
     "name": "stdout",
     "output_type": "stream",
     "text": [
      "Work: 312/168 Kent Street, Sydney\n"
     ]
    },
    {
     "name": "stderr",
     "output_type": "stream",
     "text": [
      "\r",
      "  1%|▌                                                                            | 10/1445 [05:05<11:54:28, 29.87s/it]"
     ]
    },
    {
     "name": "stdout",
     "output_type": "stream",
     "text": [
      "Work: 4 Bridge Street, Sydney\n"
     ]
    },
    {
     "name": "stderr",
     "output_type": "stream",
     "text": [
      "  1%|▋                                                                            | 12/1445 [05:55<11:00:20, 27.65s/it]"
     ]
    },
    {
     "name": "stdout",
     "output_type": "stream",
     "text": [
      "Work: 39 Bridge St, Lane Cove\n"
     ]
    },
    {
     "name": "stderr",
     "output_type": "stream",
     "text": [
      "  1%|▋                                                                            | 14/1445 [06:48<10:52:31, 27.36s/it]"
     ]
    },
    {
     "name": "stdout",
     "output_type": "stream",
     "text": [
      "Work: 129 Harrington St, Sydney\n"
     ]
    },
    {
     "name": "stderr",
     "output_type": "stream",
     "text": [
      "  1%|▉                                                                            | 17/1445 [07:57<10:22:08, 26.14s/it]"
     ]
    },
    {
     "name": "stdout",
     "output_type": "stream",
     "text": [
      "Work: 29/10 Murray Street, Lane Cove\n"
     ]
    },
    {
     "name": "stderr",
     "output_type": "stream",
     "text": [
      "  3%|██▌                                                                      | 50/1445 [7:59:53<321:57:21, 830.85s/it]"
     ]
    },
    {
     "name": "stdout",
     "output_type": "stream",
     "text": [
      "Work: 1803/1-5 Hosking Place, Sydney\n"
     ]
    },
    {
     "name": "stderr",
     "output_type": "stream",
     "text": [
      " 15%|███████████▌                                                               | 223/1445 [8:45:49<6:43:06, 19.79s/it]"
     ]
    },
    {
     "name": "stdout",
     "output_type": "stream",
     "text": [
      "Work: B604/444 Harris street, Ultimo\n"
     ]
    },
    {
     "name": "stderr",
     "output_type": "stream",
     "text": [
      "\r",
      " 16%|███████████▋                                                               | 224/1445 [8:46:13<7:06:35, 20.96s/it]"
     ]
    },
    {
     "name": "stdout",
     "output_type": "stream",
     "text": [
      "Work: 3 Clare Street, Surry Hills\n"
     ]
    },
    {
     "name": "stderr",
     "output_type": "stream",
     "text": [
      "\r",
      " 16%|███████████▋                                                               | 225/1445 [8:46:35<7:14:07, 21.35s/it]"
     ]
    },
    {
     "name": "stdout",
     "output_type": "stream",
     "text": [
      "Work: 153/6-14 Oxford Street, Darlinghurst\n"
     ]
    },
    {
     "name": "stderr",
     "output_type": "stream",
     "text": [
      "\r",
      " 16%|███████████▋                                                               | 226/1445 [8:46:59<7:27:06, 22.01s/it]"
     ]
    },
    {
     "name": "stdout",
     "output_type": "stream",
     "text": [
      "Work: 703/32 Regent Street, Chippendale\n"
     ]
    },
    {
     "name": "stderr",
     "output_type": "stream",
     "text": [
      "\r",
      " 16%|███████████▊                                                               | 227/1445 [8:47:23<7:37:57, 22.56s/it]"
     ]
    },
    {
     "name": "stdout",
     "output_type": "stream",
     "text": [
      "Work: 73 Arthur Street, Surry Hills\n"
     ]
    },
    {
     "name": "stderr",
     "output_type": "stream",
     "text": [
      "\r",
      " 16%|███████████▊                                                               | 228/1445 [8:47:47<7:46:08, 22.98s/it]"
     ]
    },
    {
     "name": "stdout",
     "output_type": "stream",
     "text": [
      "Work: 30/267 Bulwara Road, Ultimo\n"
     ]
    },
    {
     "name": "stderr",
     "output_type": "stream",
     "text": [
      "\r",
      " 16%|███████████▉                                                               | 229/1445 [8:48:12<7:58:41, 23.62s/it]"
     ]
    },
    {
     "name": "stdout",
     "output_type": "stream",
     "text": [
      "Work: 15/3 Farrell Avenue, Darlinghurst\n"
     ]
    },
    {
     "name": "stderr",
     "output_type": "stream",
     "text": [
      "\r",
      " 16%|███████████▉                                                               | 230/1445 [8:48:37<8:05:52, 23.99s/it]"
     ]
    },
    {
     "name": "stdout",
     "output_type": "stream",
     "text": [
      "Work: 3/30a-34 Brougham Street, Potts Point\n"
     ]
    },
    {
     "name": "stderr",
     "output_type": "stream",
     "text": [
      "\r",
      " 16%|███████████▉                                                               | 231/1445 [8:49:02<8:13:20, 24.38s/it]"
     ]
    },
    {
     "name": "stdout",
     "output_type": "stream",
     "text": [
      "Work: 452/6 Cowper Wharf Road, Woolloomooloo\n"
     ]
    },
    {
     "name": "stderr",
     "output_type": "stream",
     "text": [
      "\r",
      " 16%|████████████                                                               | 232/1445 [8:49:27<8:17:04, 24.59s/it]"
     ]
    },
    {
     "name": "stdout",
     "output_type": "stream",
     "text": [
      "Work: 207/221 Darlinghurst Road, Darlinghurst\n"
     ]
    },
    {
     "name": "stderr",
     "output_type": "stream",
     "text": [
      "\r",
      " 16%|████████████                                                               | 233/1445 [8:49:53<8:25:57, 25.05s/it]"
     ]
    },
    {
     "name": "stdout",
     "output_type": "stream",
     "text": [
      "Work: 23/8 Brumby Street, Surry Hills\n"
     ]
    },
    {
     "name": "stderr",
     "output_type": "stream",
     "text": [
      "\r",
      " 16%|████████████▏                                                              | 234/1445 [8:50:21<8:41:50, 25.86s/it]"
     ]
    },
    {
     "name": "stdout",
     "output_type": "stream",
     "text": [
      "Work: 12/46 Kellett Street, Potts Point\n"
     ]
    },
    {
     "name": "stderr",
     "output_type": "stream",
     "text": [
      "\r",
      " 16%|████████████▏                                                              | 235/1445 [8:50:50<9:03:00, 26.93s/it]"
     ]
    },
    {
     "name": "stdout",
     "output_type": "stream",
     "text": [
      "Work: 6/179 Darlinghurst Road, Darlinghurst\n"
     ]
    },
    {
     "name": "stderr",
     "output_type": "stream",
     "text": [
      "\r",
      " 16%|████████████▏                                                              | 236/1445 [8:51:19<9:11:53, 27.39s/it]"
     ]
    },
    {
     "name": "stdout",
     "output_type": "stream",
     "text": [
      "Work: 707/227 Victoria Street, Darlinghurst\n"
     ]
    },
    {
     "name": "stderr",
     "output_type": "stream",
     "text": [
      "\r",
      " 16%|███████████▉                                                             | 237/1445 [8:59:26<55:27:39, 165.28s/it]"
     ]
    },
    {
     "name": "stdout",
     "output_type": "stream",
     "text": [
      "Work: 218/50 McLachlan Avenue, Rushcutters Bay\n"
     ]
    },
    {
     "name": "stderr",
     "output_type": "stream",
     "text": [
      " 43%|███████████████████████████████▊                                          | 620/1445 [10:49:47<4:51:03, 21.17s/it]"
     ]
    },
    {
     "name": "stdout",
     "output_type": "stream",
     "text": [
      "Work: U/104 Barker Street \"\"Gothic Court\"\", Randwick\n"
     ]
    },
    {
     "name": "stderr",
     "output_type": "stream",
     "text": [
      " 51%|█████████████████████████████████████▋                                    | 736/1445 [11:23:00<4:01:51, 20.47s/it]"
     ]
    },
    {
     "name": "stdout",
     "output_type": "stream",
     "text": [
      "Work: 1 Bed 63-81 Princes Hwy, St Peters\n"
     ]
    },
    {
     "name": "stderr",
     "output_type": "stream",
     "text": [
      " 51%|█████████████████████████████████████▉                                    | 741/1445 [11:24:43<4:15:14, 21.75s/it]"
     ]
    },
    {
     "name": "stdout",
     "output_type": "stream",
     "text": [
      "Work: 9/4-8 Bridge, Glebe\n"
     ]
    },
    {
     "name": "stderr",
     "output_type": "stream",
     "text": [
      " 52%|██████████████████████████████████████▊                                   | 757/1445 [11:29:17<4:02:32, 21.15s/it]"
     ]
    },
    {
     "name": "stdout",
     "output_type": "stream",
     "text": [
      "Work: 18509/177 Mitchell Road, Erskineville\n"
     ]
    },
    {
     "name": "stderr",
     "output_type": "stream",
     "text": [
      " 87%|███████████████████████████████████████████████████████████████▋         | 1261/1445 [14:01:25<1:26:49, 28.31s/it]"
     ]
    },
    {
     "name": "stdout",
     "output_type": "stream",
     "text": [
      "Work: 7/79 Glover Street, Mosman\n"
     ]
    },
    {
     "name": "stderr",
     "output_type": "stream",
     "text": [
      " 87%|███████████████████████████████████████████████████████████████▊         | 1263/1445 [14:02:34<1:35:59, 31.65s/it]"
     ]
    },
    {
     "name": "stdout",
     "output_type": "stream",
     "text": [
      "Work: 38/6-10 Beaconsfield Parade, Lindfield\n"
     ]
    },
    {
     "name": "stderr",
     "output_type": "stream",
     "text": [
      " 88%|████████████████████████████████████████████████████████████████         | 1268/1445 [14:04:59<1:30:07, 30.55s/it]"
     ]
    },
    {
     "name": "stdout",
     "output_type": "stream",
     "text": [
      "Work: 33/235 Victoria Ave, Chatswood\n"
     ]
    },
    {
     "name": "stderr",
     "output_type": "stream",
     "text": [
      " 88%|███████████████████████████████████████████████████████████████▎        | 1271/1445 [14:11:41<5:58:16, 123.55s/it]"
     ]
    },
    {
     "name": "stdout",
     "output_type": "stream",
     "text": [
      "Work: 5/1 Sutherland Street, Cremorne\n"
     ]
    },
    {
     "name": "stderr",
     "output_type": "stream",
     "text": [
      " 95%|██████████████████████████████████████████████████████████████████████▉    | 1367/1445 [15:03:03<25:43, 19.78s/it]"
     ]
    },
    {
     "name": "stdout",
     "output_type": "stream",
     "text": [
      "Work: Level 1/47 Railway Cres / Entry Gordon St, Burwood\n"
     ]
    },
    {
     "name": "stderr",
     "output_type": "stream",
     "text": [
      "100%|███████████████████████████████████████████████████████████████████████████| 1445/1445 [15:22:46<00:00, 38.32s/it]\n"
     ]
    }
   ],
   "source": [
    "driver = webdriver.Chrome()\n",
    "\n",
    "times = {}\n",
    "\n",
    "for i, row in tqdm(data.iterrows(), total=len(data)):  \n",
    "    address = f'{row.address}, {row.suburb}'    \n",
    "    try:\n",
    "        times[address] = scrape(address)\n",
    "\n",
    "        if not isinstance(times[address][0], str):\n",
    "            print('Work:', address)\n",
    "    except:\n",
    "        times[address] = (np.nan, np.nan, np.nan, np.nan)\n",
    "    \n",
    "driver.quit()\n",
    "\n",
    "with open('times3.pkl', 'wb') as fp:\n",
    "    pickle.dump(times, fp)"
   ]
  },
  {
   "cell_type": "code",
   "execution_count": 5,
   "id": "e3121b1c",
   "metadata": {},
   "outputs": [
    {
     "data": {
      "text/plain": [
       "1445"
      ]
     },
     "execution_count": 5,
     "metadata": {},
     "output_type": "execute_result"
    }
   ],
   "source": [
    "len(data)"
   ]
  },
  {
   "cell_type": "code",
   "execution_count": 6,
   "id": "129ce785",
   "metadata": {},
   "outputs": [
    {
     "data": {
      "text/plain": [
       "1445"
      ]
     },
     "execution_count": 6,
     "metadata": {},
     "output_type": "execute_result"
    }
   ],
   "source": [
    "len(times)"
   ]
  },
  {
   "cell_type": "code",
   "execution_count": 7,
   "id": "1ca1ac57",
   "metadata": {},
   "outputs": [],
   "source": [
    "ts = pd.DataFrame([[address]+list(ts) for address, ts in times.items()])\n",
    "ts.columns = ['address', 'tt_work', 'tt_coles', 'tt_woolies', 'tt_station']\n",
    "\n",
    "def str2int(time):\n",
    "    if not isinstance(time, str):\n",
    "        return -1\n",
    "    if 'hr' in time:\n",
    "        time = time.split()\n",
    "        if len(time) == 4:\n",
    "            return 60*int(time[0]) + int(time[2])\n",
    "        return 60*int(time[0])\n",
    "    return int(time.rstrip(' min'))\n",
    "    \n",
    "\n",
    "for col in ts.columns[1:]:\n",
    "    ts[col] = ts[col].apply(str2int)\n",
    "\n",
    "splt = lambda address: address.split(',')[0]\n",
    "\n",
    "ts['address'] = ts.address.apply(splt)\n",
    "test = pd.merge(data, ts, on='address', how='left')\n",
    "test.to_csv('data_with_times3.csv')"
   ]
  },
  {
   "cell_type": "code",
   "execution_count": 10,
   "id": "279db590",
   "metadata": {},
   "outputs": [],
   "source": [
    "selection = test[(test.tt_work < 30) & ((test.tt_coles < 15) | (test.tt_woolies < 15)) & (test.price <= 800)].copy()\n",
    "selection.sort_values('tt_work')\n",
    "selection['study'] = 1*selection.study\n",
    "selection.sort_values('address').to_csv('selection3.csv')"
   ]
  },
  {
   "cell_type": "code",
   "execution_count": null,
   "id": "59ad2b90",
   "metadata": {},
   "outputs": [],
   "source": [
    "# If address doesn't work, try and take last digits from first word\n",
    "# Next grab distance to coles, woolies and train station/tram"
   ]
  },
  {
   "cell_type": "code",
   "execution_count": 67,
   "id": "4bb265fa",
   "metadata": {},
   "outputs": [
    {
     "name": "stderr",
     "output_type": "stream",
     "text": [
      "C:\\Users\\camch\\AppData\\Local\\Temp\\ipykernel_552\\616686869.py:2: SettingWithCopyWarning: \n",
      "A value is trying to be set on a copy of a slice from a DataFrame.\n",
      "Try using .loc[row_indexer,col_indexer] = value instead\n",
      "\n",
      "See the caveats in the documentation: https://pandas.pydata.org/pandas-docs/stable/user_guide/indexing.html#returning-a-view-versus-a-copy\n",
      "  test['time_to_work'] = test.time_to_work.str.rstrip(' min').astype(int)\n"
     ]
    }
   ],
   "source": [
    "test = data[data.time_to_work.notna()]\n",
    "test['time_to_work'] = test.time_to_work.str.rstrip(' min').astype(int)"
   ]
  },
  {
   "cell_type": "code",
   "execution_count": 72,
   "id": "103bc444",
   "metadata": {},
   "outputs": [
    {
     "data": {
      "text/plain": [
       "(array([ 3.,  9., 10., 21., 12., 21., 12., 20.,  5.,  4.]),\n",
       " array([ 2. ,  7.7, 13.4, 19.1, 24.8, 30.5, 36.2, 41.9, 47.6, 53.3, 59. ]),\n",
       " <BarContainer object of 10 artists>)"
      ]
     },
     "execution_count": 72,
     "metadata": {},
     "output_type": "execute_result"
    },
    {
     "data": {
      "image/png": "[encoded data removed]",
      "text/plain": [
       "<Figure size 432x288 with 1 Axes>"
      ]
     },
     "metadata": {
      "needs_background": "light"
     },
     "output_type": "display_data"
    }
   ],
   "source": [
    "plt.hist(test.time_to_work)"
   ]
  },
  {
   "cell_type": "code",
   "execution_count": 85,
   "id": "7ac7a8a2",
   "metadata": {},
   "outputs": [
    {
     "data": {
      "text/html": [
       "<div>\n",
       "<style scoped>\n",
       "    .dataframe tbody tr th:only-of-type {\n",
       "        vertical-align: middle;\n",
       "    }\n",
       "\n",
       "    .dataframe tbody tr th {\n",
       "        vertical-align: top;\n",
       "    }\n",
       "\n",
       "    .dataframe thead th {\n",
       "        text-align: right;\n",
       "    }\n",
       "</style>\n",
       "<table border=\"1\" class=\"dataframe\">\n",
       "  <thead>\n",
       "    <tr style=\"text-align: right;\">\n",
       "      <th></th>\n",
       "      <th>address</th>\n",
       "      <th>suburb</th>\n",
       "      <th>price</th>\n",
       "      <th>property_type</th>\n",
       "      <th>bedrooms</th>\n",
       "      <th>bathrooms</th>\n",
       "      <th>study</th>\n",
       "      <th>parking</th>\n",
       "      <th>time_to_work</th>\n",
       "    </tr>\n",
       "  </thead>\n",
       "  <tbody>\n",
       "    <tr>\n",
       "      <th>0</th>\n",
       "      <td>129 Harrington St</td>\n",
       "      <td>Sydney</td>\n",
       "      <td>850.0</td>\n",
       "      <td>Apartment</td>\n",
       "      <td>1</td>\n",
       "      <td>1</td>\n",
       "      <td>False</td>\n",
       "      <td>1</td>\n",
       "      <td>8</td>\n",
       "    </tr>\n",
       "    <tr>\n",
       "      <th>1</th>\n",
       "      <td>37 Ivy Street</td>\n",
       "      <td>Darlington</td>\n",
       "      <td>850.0</td>\n",
       "      <td>Other</td>\n",
       "      <td>3</td>\n",
       "      <td>1</td>\n",
       "      <td>False</td>\n",
       "      <td>0</td>\n",
       "      <td>22</td>\n",
       "    </tr>\n",
       "    <tr>\n",
       "      <th>2</th>\n",
       "      <td>19/24 Campbell Street</td>\n",
       "      <td>Parramatta</td>\n",
       "      <td>540.0</td>\n",
       "      <td>Apartment</td>\n",
       "      <td>2</td>\n",
       "      <td>1</td>\n",
       "      <td>False</td>\n",
       "      <td>1</td>\n",
       "      <td>47</td>\n",
       "    </tr>\n",
       "    <tr>\n",
       "      <th>3</th>\n",
       "      <td>502/49-53 Regent Street</td>\n",
       "      <td>Chippendale</td>\n",
       "      <td>750.0</td>\n",
       "      <td>Apartment</td>\n",
       "      <td>2</td>\n",
       "      <td>2</td>\n",
       "      <td>False</td>\n",
       "      <td>1</td>\n",
       "      <td>23</td>\n",
       "    </tr>\n",
       "    <tr>\n",
       "      <th>4</th>\n",
       "      <td>2304/140 Church Street</td>\n",
       "      <td>Parramatta</td>\n",
       "      <td>630.0</td>\n",
       "      <td>Apartment</td>\n",
       "      <td>2</td>\n",
       "      <td>2</td>\n",
       "      <td>False</td>\n",
       "      <td>1</td>\n",
       "      <td>41</td>\n",
       "    </tr>\n",
       "    <tr>\n",
       "      <th>...</th>\n",
       "      <td>...</td>\n",
       "      <td>...</td>\n",
       "      <td>...</td>\n",
       "      <td>...</td>\n",
       "      <td>...</td>\n",
       "      <td>...</td>\n",
       "      <td>...</td>\n",
       "      <td>...</td>\n",
       "      <td>...</td>\n",
       "    </tr>\n",
       "    <tr>\n",
       "      <th>162</th>\n",
       "      <td>18/177 Glenayr Avenue</td>\n",
       "      <td>Bondi Beach</td>\n",
       "      <td>700.0</td>\n",
       "      <td>Unit</td>\n",
       "      <td>1</td>\n",
       "      <td>1</td>\n",
       "      <td>False</td>\n",
       "      <td>0</td>\n",
       "      <td>36</td>\n",
       "    </tr>\n",
       "    <tr>\n",
       "      <th>163</th>\n",
       "      <td>10 Paul Street</td>\n",
       "      <td>Bondi Junction</td>\n",
       "      <td>1400.0</td>\n",
       "      <td>Terrace</td>\n",
       "      <td>3</td>\n",
       "      <td>4</td>\n",
       "      <td>True</td>\n",
       "      <td>0</td>\n",
       "      <td>24</td>\n",
       "    </tr>\n",
       "    <tr>\n",
       "      <th>165</th>\n",
       "      <td>3/134 Ramsgate Avenue</td>\n",
       "      <td>North Bondi</td>\n",
       "      <td>2350.0</td>\n",
       "      <td>House</td>\n",
       "      <td>2</td>\n",
       "      <td>2</td>\n",
       "      <td>False</td>\n",
       "      <td>2</td>\n",
       "      <td>47</td>\n",
       "    </tr>\n",
       "    <tr>\n",
       "      <th>167</th>\n",
       "      <td>5/46 Sir Thomas Mitchell Road</td>\n",
       "      <td>Bondi Beach</td>\n",
       "      <td>720.0</td>\n",
       "      <td>Unit</td>\n",
       "      <td>2</td>\n",
       "      <td>1</td>\n",
       "      <td>False</td>\n",
       "      <td>0</td>\n",
       "      <td>40</td>\n",
       "    </tr>\n",
       "    <tr>\n",
       "      <th>168</th>\n",
       "      <td>1/4 Fern Place</td>\n",
       "      <td>Woollahra</td>\n",
       "      <td>850.0</td>\n",
       "      <td>Unit</td>\n",
       "      <td>1</td>\n",
       "      <td>1</td>\n",
       "      <td>False</td>\n",
       "      <td>1</td>\n",
       "      <td>20</td>\n",
       "    </tr>\n",
       "  </tbody>\n",
       "</table>\n",
       "<p>117 rows × 9 columns</p>\n",
       "</div>"
      ],
      "text/plain": [
       "                           address          suburb   price property_type  \\\n",
       "0                129 Harrington St          Sydney   850.0     Apartment   \n",
       "1                    37 Ivy Street      Darlington   850.0         Other   \n",
       "2            19/24 Campbell Street      Parramatta   540.0     Apartment   \n",
       "3          502/49-53 Regent Street     Chippendale   750.0     Apartment   \n",
       "4           2304/140 Church Street      Parramatta   630.0     Apartment   \n",
       "..                             ...             ...     ...           ...   \n",
       "162          18/177 Glenayr Avenue     Bondi Beach   700.0          Unit   \n",
       "163                 10 Paul Street  Bondi Junction  1400.0       Terrace   \n",
       "165          3/134 Ramsgate Avenue     North Bondi  2350.0         House   \n",
       "167  5/46 Sir Thomas Mitchell Road     Bondi Beach   720.0          Unit   \n",
       "168                 1/4 Fern Place       Woollahra   850.0          Unit   \n",
       "\n",
       "     bedrooms  bathrooms  study  parking  time_to_work  \n",
       "0           1          1  False        1             8  \n",
       "1           3          1  False        0            22  \n",
       "2           2          1  False        1            47  \n",
       "3           2          2  False        1            23  \n",
       "4           2          2  False        1            41  \n",
       "..        ...        ...    ...      ...           ...  \n",
       "162         1          1  False        0            36  \n",
       "163         3          4   True        0            24  \n",
       "165         2          2  False        2            47  \n",
       "167         2          1  False        0            40  \n",
       "168         1          1  False        1            20  \n",
       "\n",
       "[117 rows x 9 columns]"
      ]
     },
     "execution_count": 85,
     "metadata": {},
     "output_type": "execute_result"
    }
   ],
   "source": [
    "test"
   ]
  },
  {
   "cell_type": "code",
   "execution_count": 87,
   "id": "5e63ecd3",
   "metadata": {},
   "outputs": [
    {
     "data": {
      "text/html": [
       "<table class=\"simpletable\">\n",
       "<caption>OLS Regression Results</caption>\n",
       "<tr>\n",
       "  <th>Dep. Variable:</th>          <td>price</td>      <th>  R-squared:         </th> <td>   0.613</td>\n",
       "</tr>\n",
       "<tr>\n",
       "  <th>Model:</th>                   <td>OLS</td>       <th>  Adj. R-squared:    </th> <td>   0.546</td>\n",
       "</tr>\n",
       "<tr>\n",
       "  <th>Method:</th>             <td>Least Squares</td>  <th>  F-statistic:       </th> <td>   9.218</td>\n",
       "</tr>\n",
       "<tr>\n",
       "  <th>Date:</th>             <td>Mon, 28 Nov 2022</td> <th>  Prob (F-statistic):</th> <td>7.51e-14</td>\n",
       "</tr>\n",
       "<tr>\n",
       "  <th>Time:</th>                 <td>21:21:33</td>     <th>  Log-Likelihood:    </th> <td> -854.27</td>\n",
       "</tr>\n",
       "<tr>\n",
       "  <th>No. Observations:</th>      <td>   117</td>      <th>  AIC:               </th> <td>   1745.</td>\n",
       "</tr>\n",
       "<tr>\n",
       "  <th>Df Residuals:</th>          <td>    99</td>      <th>  BIC:               </th> <td>   1794.</td>\n",
       "</tr>\n",
       "<tr>\n",
       "  <th>Df Model:</th>              <td>    17</td>      <th>                     </th>     <td> </td>   \n",
       "</tr>\n",
       "<tr>\n",
       "  <th>Covariance Type:</th>      <td>nonrobust</td>    <th>                     </th>     <td> </td>   \n",
       "</tr>\n",
       "</table>\n",
       "<table class=\"simpletable\">\n",
       "<tr>\n",
       "                      <td></td>                        <th>coef</th>     <th>std err</th>      <th>t</th>      <th>P>|t|</th>  <th>[0.025</th>    <th>0.975]</th>  \n",
       "</tr>\n",
       "<tr>\n",
       "  <th>Intercept</th>                                <td>  723.8890</td> <td>  108.073</td> <td>    6.698</td> <td> 0.000</td> <td>  509.449</td> <td>  938.329</td>\n",
       "</tr>\n",
       "<tr>\n",
       "  <th>C(bedrooms)[T.2]</th>                         <td>  142.8527</td> <td>  101.054</td> <td>    1.414</td> <td> 0.161</td> <td>  -57.660</td> <td>  343.366</td>\n",
       "</tr>\n",
       "<tr>\n",
       "  <th>C(bedrooms)[T.3]</th>                         <td>  338.7998</td> <td>  158.789</td> <td>    2.134</td> <td> 0.035</td> <td>   23.727</td> <td>  653.872</td>\n",
       "</tr>\n",
       "<tr>\n",
       "  <th>C(bedrooms)[T.4]</th>                         <td>  612.7642</td> <td>  263.202</td> <td>    2.328</td> <td> 0.022</td> <td>   90.515</td> <td> 1135.014</td>\n",
       "</tr>\n",
       "<tr>\n",
       "  <th>C(bathrooms)[T.2]</th>                        <td>  266.6652</td> <td>  109.161</td> <td>    2.443</td> <td> 0.016</td> <td>   50.067</td> <td>  483.264</td>\n",
       "</tr>\n",
       "<tr>\n",
       "  <th>C(bathrooms)[T.3]</th>                        <td>  734.6941</td> <td>  247.711</td> <td>    2.966</td> <td> 0.004</td> <td>  243.181</td> <td> 1226.207</td>\n",
       "</tr>\n",
       "<tr>\n",
       "  <th>C(bathrooms)[T.4]</th>                        <td>  179.1640</td> <td>  229.650</td> <td>    0.780</td> <td> 0.437</td> <td> -276.512</td> <td>  634.840</td>\n",
       "</tr>\n",
       "<tr>\n",
       "  <th>C(property_type)[T.Duplex/Semi-detached]</th> <td>  -14.6679</td> <td>  401.550</td> <td>   -0.037</td> <td> 0.971</td> <td> -811.431</td> <td>  782.095</td>\n",
       "</tr>\n",
       "<tr>\n",
       "  <th>C(property_type)[T.House]</th>                <td>   -7.3007</td> <td>  150.314</td> <td>   -0.049</td> <td> 0.961</td> <td> -305.557</td> <td>  290.956</td>\n",
       "</tr>\n",
       "<tr>\n",
       "  <th>C(property_type)[T.Other]</th>                <td>  -73.7631</td> <td>  420.187</td> <td>   -0.176</td> <td> 0.861</td> <td> -907.506</td> <td>  759.980</td>\n",
       "</tr>\n",
       "<tr>\n",
       "  <th>C(property_type)[T.Studio]</th>               <td> -196.5983</td> <td>  239.182</td> <td>   -0.822</td> <td> 0.413</td> <td> -671.186</td> <td>  277.990</td>\n",
       "</tr>\n",
       "<tr>\n",
       "  <th>C(property_type)[T.Terrace]</th>              <td>  179.1640</td> <td>  229.650</td> <td>    0.780</td> <td> 0.437</td> <td> -276.512</td> <td>  634.840</td>\n",
       "</tr>\n",
       "<tr>\n",
       "  <th>C(property_type)[T.Townhouse]</th>            <td> -520.2444</td> <td>  243.783</td> <td>   -2.134</td> <td> 0.035</td> <td>-1003.963</td> <td>  -36.526</td>\n",
       "</tr>\n",
       "<tr>\n",
       "  <th>C(property_type)[T.Unit]</th>                 <td>  -36.7529</td> <td>  114.320</td> <td>   -0.321</td> <td> 0.749</td> <td> -263.589</td> <td>  190.083</td>\n",
       "</tr>\n",
       "<tr>\n",
       "  <th>C(parking)[T.1]</th>                          <td>  161.9788</td> <td>   96.070</td> <td>    1.686</td> <td> 0.095</td> <td>  -28.646</td> <td>  352.603</td>\n",
       "</tr>\n",
       "<tr>\n",
       "  <th>C(parking)[T.2]</th>                          <td>  494.7443</td> <td>  166.233</td> <td>    2.976</td> <td> 0.004</td> <td>  164.902</td> <td>  824.587</td>\n",
       "</tr>\n",
       "<tr>\n",
       "  <th>C(parking)[T.3]</th>                          <td> 1682.2309</td> <td>  482.638</td> <td>    3.485</td> <td> 0.001</td> <td>  724.572</td> <td> 2639.890</td>\n",
       "</tr>\n",
       "<tr>\n",
       "  <th>study[T.True]</th>                            <td>  130.5386</td> <td>  184.550</td> <td>    0.707</td> <td> 0.481</td> <td> -235.649</td> <td>  496.726</td>\n",
       "</tr>\n",
       "<tr>\n",
       "  <th>time_to_work</th>                             <td>   -6.3148</td> <td>    3.408</td> <td>   -1.853</td> <td> 0.067</td> <td>  -13.078</td> <td>    0.448</td>\n",
       "</tr>\n",
       "</table>\n",
       "<table class=\"simpletable\">\n",
       "<tr>\n",
       "  <th>Omnibus:</th>       <td>48.723</td> <th>  Durbin-Watson:     </th> <td>   1.665</td>\n",
       "</tr>\n",
       "<tr>\n",
       "  <th>Prob(Omnibus):</th> <td> 0.000</td> <th>  Jarque-Bera (JB):  </th> <td> 160.168</td>\n",
       "</tr>\n",
       "<tr>\n",
       "  <th>Skew:</th>          <td> 1.479</td> <th>  Prob(JB):          </th> <td>1.66e-35</td>\n",
       "</tr>\n",
       "<tr>\n",
       "  <th>Kurtosis:</th>      <td> 7.910</td> <th>  Cond. No.          </th> <td>2.37e+18</td>\n",
       "</tr>\n",
       "</table><br/><br/>Notes:<br/>[1] Standard Errors assume that the covariance matrix of the errors is correctly specified.<br/>[2] The smallest eigenvalue is 2.34e-32. This might indicate that there are<br/>strong multicollinearity problems or that the design matrix is singular."
      ],
      "text/plain": [
       "<class 'statsmodels.iolib.summary.Summary'>\n",
       "\"\"\"\n",
       "                            OLS Regression Results                            \n",
       "==============================================================================\n",
       "Dep. Variable:                  price   R-squared:                       0.613\n",
       "Model:                            OLS   Adj. R-squared:                  0.546\n",
       "Method:                 Least Squares   F-statistic:                     9.218\n",
       "Date:                Mon, 28 Nov 2022   Prob (F-statistic):           7.51e-14\n",
       "Time:                        21:21:33   Log-Likelihood:                -854.27\n",
       "No. Observations:                 117   AIC:                             1745.\n",
       "Df Residuals:                      99   BIC:                             1794.\n",
       "Df Model:                          17                                         \n",
       "Covariance Type:            nonrobust                                         \n",
       "============================================================================================================\n",
       "                                               coef    std err          t      P>|t|      [0.025      0.975]\n",
       "------------------------------------------------------------------------------------------------------------\n",
       "Intercept                                  723.8890    108.073      6.698      0.000     509.449     938.329\n",
       "C(bedrooms)[T.2]                           142.8527    101.054      1.414      0.161     -57.660     343.366\n",
       "C(bedrooms)[T.3]                           338.7998    158.789      2.134      0.035      23.727     653.872\n",
       "C(bedrooms)[T.4]                           612.7642    263.202      2.328      0.022      90.515    1135.014\n",
       "C(bathrooms)[T.2]                          266.6652    109.161      2.443      0.016      50.067     483.264\n",
       "C(bathrooms)[T.3]                          734.6941    247.711      2.966      0.004     243.181    1226.207\n",
       "C(bathrooms)[T.4]                          179.1640    229.650      0.780      0.437    -276.512     634.840\n",
       "C(property_type)[T.Duplex/Semi-detached]   -14.6679    401.550     -0.037      0.971    -811.431     782.095\n",
       "C(property_type)[T.House]                   -7.3007    150.314     -0.049      0.961    -305.557     290.956\n",
       "C(property_type)[T.Other]                  -73.7631    420.187     -0.176      0.861    -907.506     759.980\n",
       "C(property_type)[T.Studio]                -196.5983    239.182     -0.822      0.413    -671.186     277.990\n",
       "C(property_type)[T.Terrace]                179.1640    229.650      0.780      0.437    -276.512     634.840\n",
       "C(property_type)[T.Townhouse]             -520.2444    243.783     -2.134      0.035   -1003.963     -36.526\n",
       "C(property_type)[T.Unit]                   -36.7529    114.320     -0.321      0.749    -263.589     190.083\n",
       "C(parking)[T.1]                            161.9788     96.070      1.686      0.095     -28.646     352.603\n",
       "C(parking)[T.2]                            494.7443    166.233      2.976      0.004     164.902     824.587\n",
       "C(parking)[T.3]                           1682.2309    482.638      3.485      0.001     724.572    2639.890\n",
       "study[T.True]                              130.5386    184.550      0.707      0.481    -235.649     496.726\n",
       "time_to_work                                -6.3148      3.408     -1.853      0.067     -13.078       0.448\n",
       "==============================================================================\n",
       "Omnibus:                       48.723   Durbin-Watson:                   1.665\n",
       "Prob(Omnibus):                  0.000   Jarque-Bera (JB):              160.168\n",
       "Skew:                           1.479   Prob(JB):                     1.66e-35\n",
       "Kurtosis:                       7.910   Cond. No.                     2.37e+18\n",
       "==============================================================================\n",
       "\n",
       "Notes:\n",
       "[1] Standard Errors assume that the covariance matrix of the errors is correctly specified.\n",
       "[2] The smallest eigenvalue is 2.34e-32. This might indicate that there are\n",
       "strong multicollinearity problems or that the design matrix is singular.\n",
       "\"\"\""
      ]
     },
     "execution_count": 87,
     "metadata": {},
     "output_type": "execute_result"
    }
   ],
   "source": [
    "import statsmodels.formula.api as smf\n",
    "\n",
    "lm = smf.ols('price ~ time_to_work + C(bedrooms) + C(bathrooms) + C(property_type) + C(parking) + study', data=test).fit()\n",
    "lm.summary()"
   ]
  },
  {
   "cell_type": "code",
   "execution_count": 78,
   "id": "7fe1af68",
   "metadata": {},
   "outputs": [
    {
     "name": "stderr",
     "output_type": "stream",
     "text": [
      "C:\\Users\\camch\\Anaconda3\\lib\\site-packages\\seaborn\\_decorators.py:36: FutureWarning: Pass the following variables as keyword args: x, y. From version 0.12, the only valid positional argument will be `data`, and passing other arguments without an explicit keyword will result in an error or misinterpretation.\n",
      "  warnings.warn(\n"
     ]
    },
    {
     "data": {
      "text/plain": [
       "<AxesSubplot:xlabel='time_to_work', ylabel='price'>"
      ]
     },
     "execution_count": 78,
     "metadata": {},
     "output_type": "execute_result"
    },
    {
     "data": {
      "image/png": "[encoded data removed]",
      "text/plain": [
       "<Figure size 432x288 with 1 Axes>"
      ]
     },
     "metadata": {
      "needs_background": "light"
     },
     "output_type": "display_data"
    }
   ],
   "source": [
    "sns.regplot(test.time_to_work, test.price)"
   ]
  }
 ],
 "metadata": {
  "kernelspec": {
   "display_name": "Python 3 (ipykernel)",
   "language": "python",
   "name": "python3"
  },
  "language_info": {
   "codemirror_mode": {
    "name": "ipython",
    "version": 3
   },
   "file_extension": ".py",
   "mimetype": "text/x-python",
   "name": "python",
   "nbconvert_exporter": "python",
   "pygments_lexer": "ipython3",
   "version": "3.9.7"
  }
 },
 "nbformat": 4,
 "nbformat_minor": 5
}
